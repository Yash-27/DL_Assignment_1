{
 "cells": [
  {
   "cell_type": "markdown",
   "id": "083eec99",
   "metadata": {},
   "source": [
    "## Name: Yash Parihar\n",
    "## Roll No. 19337"
   ]
  },
  {
   "cell_type": "code",
   "execution_count": 1,
   "id": "5bcc6a67-351d-40b2-b34e-c43c0df0f4b3",
   "metadata": {},
   "outputs": [
    {
     "name": "stderr",
     "output_type": "stream",
     "text": [
      "/Users/yashparihar/Library/Python/3.9/lib/python/site-packages/urllib3/__init__.py:35: NotOpenSSLWarning: urllib3 v2 only supports OpenSSL 1.1.1+, currently the 'ssl' module is compiled with 'LibreSSL 2.8.3'. See: https://github.com/urllib3/urllib3/issues/3020\n",
      "  warnings.warn(\n"
     ]
    }
   ],
   "source": [
    "import tensorflow as tf\n",
    "from tensorflow.keras.models import Sequential\n",
    "from tensorflow.keras.layers import Dense, Flatten\n",
    "from tensorflow.keras.optimizers import Adam\n",
    "from tensorflow.keras.datasets import mnist\n",
    "from tqdm import tqdm"
   ]
  },
  {
   "cell_type": "code",
   "execution_count": 2,
   "id": "8bf44b5e-741d-4e31-a707-bc445b5d5f1f",
   "metadata": {},
   "outputs": [],
   "source": [
    "# Preprocessing by Normalizing the pixel values between 0 and 1\n",
    "def preprocess_images(images):\n",
    "    processed_images = images / 255.0 \n",
    "    return processed_images"
   ]
  },
  {
   "cell_type": "code",
   "execution_count": 3,
   "id": "c349aa94-d19f-4752-8dae-5d6789fdf472",
   "metadata": {},
   "outputs": [],
   "source": [
    "activation_function = 'relu' # Activation function for the hidden layers\n",
    "\n",
    "(X_train, y_train), (X_test, y_test) = mnist.load_data()\n",
    "\n",
    "# Preprocessing input\n",
    "X_train = preprocess_images(X_train)\n",
    "X_test = preprocess_images(X_test)\n",
    "\n",
    "X_train = X_train.reshape(X_train.shape[0], -1)\n",
    "X_test = X_test.reshape(X_test.shape[0], -1)\n",
    "\n",
    "num_classes = 10  # number of classes\n",
    "\n",
    "# OHE\n",
    "y_train = tf.keras.utils.to_categorical(y_train, num_classes)\n",
    "y_test = tf.keras.utils.to_categorical(y_test, num_classes)"
   ]
  },
  {
   "cell_type": "code",
   "execution_count": 4,
   "id": "ce87a61d-b3da-414b-841d-4d43e59854d9",
   "metadata": {},
   "outputs": [
    {
     "name": "stderr",
     "output_type": "stream",
     "text": [
      "2024-03-16 15:20:37.649368: I metal_plugin/src/device/metal_device.cc:1154] Metal device set to: Apple M2\n",
      "2024-03-16 15:20:37.649398: I metal_plugin/src/device/metal_device.cc:296] systemMemory: 16.00 GB\n",
      "2024-03-16 15:20:37.649404: I metal_plugin/src/device/metal_device.cc:313] maxCacheSize: 5.33 GB\n",
      "2024-03-16 15:20:37.649656: I tensorflow/core/common_runtime/pluggable_device/pluggable_device_factory.cc:306] Could not identify NUMA node of platform GPU ID 0, defaulting to 0. Your kernel may not have been built with NUMA support.\n",
      "2024-03-16 15:20:37.649890: I tensorflow/core/common_runtime/pluggable_device/pluggable_device_factory.cc:272] Created TensorFlow device (/job:localhost/replica:0/task:0/device:GPU:0 with 0 MB memory) -> physical PluggableDevice (device: 0, name: METAL, pci bus id: <undefined>)\n",
      "/Users/yashparihar/Library/Python/3.9/lib/python/site-packages/keras/src/layers/reshaping/flatten.py:37: UserWarning: Do not pass an `input_shape`/`input_dim` argument to a layer. When using Sequential models, prefer using an `Input(shape)` object as the first layer in the model instead.\n",
      "  super().__init__(**kwargs)\n",
      "Combination: 3 hidden layers, 128 neurons per layer: 100%|█| 10/10 [00:14<00:00,\n"
     ]
    },
    {
     "name": "stdout",
     "output_type": "stream",
     "text": [
      "Combination: 3 hidden layers, 128 neurons per layer | Epochs: 10 | Accuracy: 0.9768999814987183\n"
     ]
    },
    {
     "name": "stderr",
     "output_type": "stream",
     "text": [
      "Combination: 3 hidden layers, 128 neurons per layer: 100%|█| 20/20 [00:29<00:00,\n"
     ]
    },
    {
     "name": "stdout",
     "output_type": "stream",
     "text": [
      "Combination: 3 hidden layers, 128 neurons per layer | Epochs: 20 | Accuracy: 0.9749000072479248\n"
     ]
    },
    {
     "name": "stderr",
     "output_type": "stream",
     "text": [
      "Combination: 3 hidden layers, 128 neurons per layer: 100%|█| 30/30 [00:43<00:00,\n"
     ]
    },
    {
     "name": "stdout",
     "output_type": "stream",
     "text": [
      "Combination: 3 hidden layers, 128 neurons per layer | Epochs: 30 | Accuracy: 0.9794999957084656\n"
     ]
    },
    {
     "name": "stderr",
     "output_type": "stream",
     "text": [
      "Combination: 3 hidden layers, 256 neurons per layer: 100%|█| 10/10 [00:27<00:00,\n"
     ]
    },
    {
     "name": "stdout",
     "output_type": "stream",
     "text": [
      "Combination: 3 hidden layers, 256 neurons per layer | Epochs: 10 | Accuracy: 0.9778000116348267\n"
     ]
    },
    {
     "name": "stderr",
     "output_type": "stream",
     "text": [
      "Combination: 3 hidden layers, 256 neurons per layer: 100%|█| 20/20 [00:53<00:00,\n"
     ]
    },
    {
     "name": "stdout",
     "output_type": "stream",
     "text": [
      "Combination: 3 hidden layers, 256 neurons per layer | Epochs: 20 | Accuracy: 0.980400025844574\n"
     ]
    },
    {
     "name": "stderr",
     "output_type": "stream",
     "text": [
      "Combination: 3 hidden layers, 256 neurons per layer: 100%|█| 30/30 [01:44<00:00,\n"
     ]
    },
    {
     "name": "stdout",
     "output_type": "stream",
     "text": [
      "Combination: 3 hidden layers, 256 neurons per layer | Epochs: 30 | Accuracy: 0.9825000166893005\n"
     ]
    },
    {
     "name": "stderr",
     "output_type": "stream",
     "text": [
      "Combination: 3 hidden layers, 512 neurons per layer: 100%|█| 10/10 [01:41<00:00,\n"
     ]
    },
    {
     "name": "stdout",
     "output_type": "stream",
     "text": [
      "Combination: 3 hidden layers, 512 neurons per layer | Epochs: 10 | Accuracy: 0.9811000227928162\n"
     ]
    },
    {
     "name": "stderr",
     "output_type": "stream",
     "text": [
      "Combination: 3 hidden layers, 512 neurons per layer: 100%|█| 20/20 [02:54<00:00,\n"
     ]
    },
    {
     "name": "stdout",
     "output_type": "stream",
     "text": [
      "Combination: 3 hidden layers, 512 neurons per layer | Epochs: 20 | Accuracy: 0.9821000099182129\n"
     ]
    },
    {
     "name": "stderr",
     "output_type": "stream",
     "text": [
      "Combination: 3 hidden layers, 512 neurons per layer: 100%|█| 30/30 [04:31<00:00,\n"
     ]
    },
    {
     "name": "stdout",
     "output_type": "stream",
     "text": [
      "Combination: 3 hidden layers, 512 neurons per layer | Epochs: 30 | Accuracy: 0.9822999835014343\n"
     ]
    },
    {
     "name": "stderr",
     "output_type": "stream",
     "text": [
      "Combination: 5 hidden layers, 128 neurons per layer: 100%|█| 10/10 [00:22<00:00,\n"
     ]
    },
    {
     "name": "stdout",
     "output_type": "stream",
     "text": [
      "Combination: 5 hidden layers, 128 neurons per layer | Epochs: 10 | Accuracy: 0.9794999957084656\n"
     ]
    },
    {
     "name": "stderr",
     "output_type": "stream",
     "text": [
      "Combination: 5 hidden layers, 128 neurons per layer: 100%|█| 20/20 [00:43<00:00,\n"
     ]
    },
    {
     "name": "stdout",
     "output_type": "stream",
     "text": [
      "Combination: 5 hidden layers, 128 neurons per layer | Epochs: 20 | Accuracy: 0.9793000221252441\n"
     ]
    },
    {
     "name": "stderr",
     "output_type": "stream",
     "text": [
      "Combination: 5 hidden layers, 128 neurons per layer: 100%|█| 30/30 [01:02<00:00,\n"
     ]
    },
    {
     "name": "stdout",
     "output_type": "stream",
     "text": [
      "Combination: 5 hidden layers, 128 neurons per layer | Epochs: 30 | Accuracy: 0.9786999821662903\n"
     ]
    },
    {
     "name": "stderr",
     "output_type": "stream",
     "text": [
      "Combination: 5 hidden layers, 256 neurons per layer: 100%|█| 10/10 [00:48<00:00,\n"
     ]
    },
    {
     "name": "stdout",
     "output_type": "stream",
     "text": [
      "Combination: 5 hidden layers, 256 neurons per layer | Epochs: 10 | Accuracy: 0.9767000079154968\n"
     ]
    },
    {
     "name": "stderr",
     "output_type": "stream",
     "text": [
      "Combination: 5 hidden layers, 256 neurons per layer: 100%|█| 20/20 [01:43<00:00,\n"
     ]
    },
    {
     "name": "stdout",
     "output_type": "stream",
     "text": [
      "Combination: 5 hidden layers, 256 neurons per layer | Epochs: 20 | Accuracy: 0.9815999865531921\n"
     ]
    },
    {
     "name": "stderr",
     "output_type": "stream",
     "text": [
      "Combination: 5 hidden layers, 256 neurons per layer: 100%|█| 30/30 [02:42<00:00,\n"
     ]
    },
    {
     "name": "stdout",
     "output_type": "stream",
     "text": [
      "Combination: 5 hidden layers, 256 neurons per layer | Epochs: 30 | Accuracy: 0.9803000092506409\n"
     ]
    },
    {
     "name": "stderr",
     "output_type": "stream",
     "text": [
      "Combination: 5 hidden layers, 512 neurons per layer: 100%|█| 10/10 [02:22<00:00,\n"
     ]
    },
    {
     "name": "stdout",
     "output_type": "stream",
     "text": [
      "Combination: 5 hidden layers, 512 neurons per layer | Epochs: 10 | Accuracy: 0.9796000123023987\n"
     ]
    },
    {
     "name": "stderr",
     "output_type": "stream",
     "text": [
      "Combination: 5 hidden layers, 512 neurons per layer: 100%|█| 20/20 [05:13<00:00,\n"
     ]
    },
    {
     "name": "stdout",
     "output_type": "stream",
     "text": [
      "Combination: 5 hidden layers, 512 neurons per layer | Epochs: 20 | Accuracy: 0.9829000234603882\n"
     ]
    },
    {
     "name": "stderr",
     "output_type": "stream",
     "text": [
      "Combination: 5 hidden layers, 512 neurons per layer: 100%|█| 30/30 [08:19<00:00,\n"
     ]
    },
    {
     "name": "stdout",
     "output_type": "stream",
     "text": [
      "Combination: 5 hidden layers, 512 neurons per layer | Epochs: 30 | Accuracy: 0.9793999791145325\n"
     ]
    },
    {
     "name": "stderr",
     "output_type": "stream",
     "text": [
      "Combination: 7 hidden layers, 128 neurons per layer: 100%|█| 10/10 [00:30<00:00,\n"
     ]
    },
    {
     "name": "stdout",
     "output_type": "stream",
     "text": [
      "Combination: 7 hidden layers, 128 neurons per layer | Epochs: 10 | Accuracy: 0.9771999716758728\n"
     ]
    },
    {
     "name": "stderr",
     "output_type": "stream",
     "text": [
      "Combination: 7 hidden layers, 128 neurons per layer: 100%|█| 20/20 [00:57<00:00,\n"
     ]
    },
    {
     "name": "stdout",
     "output_type": "stream",
     "text": [
      "Combination: 7 hidden layers, 128 neurons per layer | Epochs: 20 | Accuracy: 0.9790999889373779\n"
     ]
    },
    {
     "name": "stderr",
     "output_type": "stream",
     "text": [
      "Combination: 7 hidden layers, 128 neurons per layer: 100%|█| 30/30 [01:16<00:00,\n"
     ]
    },
    {
     "name": "stdout",
     "output_type": "stream",
     "text": [
      "Combination: 7 hidden layers, 128 neurons per layer | Epochs: 30 | Accuracy: 0.9810000061988831\n"
     ]
    },
    {
     "name": "stderr",
     "output_type": "stream",
     "text": [
      "Combination: 7 hidden layers, 256 neurons per layer: 100%|█| 10/10 [01:01<00:00,\n"
     ]
    },
    {
     "name": "stdout",
     "output_type": "stream",
     "text": [
      "Combination: 7 hidden layers, 256 neurons per layer | Epochs: 10 | Accuracy: 0.9815999865531921\n"
     ]
    },
    {
     "name": "stderr",
     "output_type": "stream",
     "text": [
      "Combination: 7 hidden layers, 256 neurons per layer: 100%|█| 20/20 [02:04<00:00,\n"
     ]
    },
    {
     "name": "stdout",
     "output_type": "stream",
     "text": [
      "Combination: 7 hidden layers, 256 neurons per layer | Epochs: 20 | Accuracy: 0.9800999760627747\n"
     ]
    },
    {
     "name": "stderr",
     "output_type": "stream",
     "text": [
      "Combination: 7 hidden layers, 256 neurons per layer: 100%|█| 30/30 [02:58<00:00,\n"
     ]
    },
    {
     "name": "stdout",
     "output_type": "stream",
     "text": [
      "Combination: 7 hidden layers, 256 neurons per layer | Epochs: 30 | Accuracy: 0.9799000024795532\n"
     ]
    },
    {
     "name": "stderr",
     "output_type": "stream",
     "text": [
      "Combination: 7 hidden layers, 512 neurons per layer: 100%|█| 10/10 [02:56<00:00,\n"
     ]
    },
    {
     "name": "stdout",
     "output_type": "stream",
     "text": [
      "Combination: 7 hidden layers, 512 neurons per layer | Epochs: 10 | Accuracy: 0.9753999710083008\n"
     ]
    },
    {
     "name": "stderr",
     "output_type": "stream",
     "text": [
      "Combination: 7 hidden layers, 512 neurons per layer: 100%|█| 20/20 [06:05<00:00,\n"
     ]
    },
    {
     "name": "stdout",
     "output_type": "stream",
     "text": [
      "Combination: 7 hidden layers, 512 neurons per layer | Epochs: 20 | Accuracy: 0.9824000000953674\n"
     ]
    },
    {
     "name": "stderr",
     "output_type": "stream",
     "text": [
      "Combination: 7 hidden layers, 512 neurons per layer: 100%|█| 30/30 [09:55<00:00,\n"
     ]
    },
    {
     "name": "stdout",
     "output_type": "stream",
     "text": [
      "Combination: 7 hidden layers, 512 neurons per layer | Epochs: 30 | Accuracy: 0.9835000038146973\n",
      "Best combination: (7, 512, 30) with accuracy: 0.9835000038146973\n",
      "CPU times: user 2h 20min 46s, sys: 51min 33s, total: 3h 12min 20s\n",
      "Wall time: 1h 4min 54s\n"
     ]
    }
   ],
   "source": [
    "%%time\n",
    "# Hyperparameters values for the number of hidden layers, neurons per layer and epochs\n",
    "num_hidden_layers_values = [3, 5, 7]\n",
    "neurons_per_layer_values = [128, 256, 512]\n",
    "epoch_values = [10, 20, 30]\n",
    "\n",
    "best_accuracy = 0.0\n",
    "best_combination = None\n",
    "\n",
    "# Iterate over possible combinations\n",
    "for num_hidden_layers in num_hidden_layers_values:\n",
    "    for neurons_per_layer in neurons_per_layer_values:\n",
    "        for epochs in epoch_values:\n",
    "            # Building the neural network\n",
    "            with tf.device(\"/cpu:0\"):\n",
    "                model = Sequential([\n",
    "                    Flatten(input_shape=X_train.shape[1:]),  # Flatten input images\n",
    "                ])\n",
    "\n",
    "                for _ in range(num_hidden_layers):\n",
    "                    model.add(Dense(neurons_per_layer, activation='relu'))\n",
    "\n",
    "                model.add(Dense(num_classes, activation='softmax'))\n",
    "\n",
    "                model.compile(optimizer=Adam(), loss='categorical_crossentropy', metrics=['accuracy'])\n",
    "\n",
    "                #tqdm progress bar\n",
    "                with tqdm(total=epochs, desc=f'Combination: {num_hidden_layers} hidden layers, {neurons_per_layer} neurons per layer', position=0, leave=True) as pbar:\n",
    "                    model.fit(X_train, y_train, epochs=epochs, batch_size=32, verbose=0, callbacks=[tf.keras.callbacks.LambdaCallback(on_epoch_end=lambda epoch, logs: pbar.update(1))])\n",
    "\n",
    "                _, test_accuracy = model.evaluate(X_test, y_test, verbose=0)\n",
    "\n",
    "                print(f\"Combination: {num_hidden_layers} hidden layers, {neurons_per_layer} neurons per layer | Epochs: {epochs} | Accuracy: {test_accuracy}\")\n",
    "\n",
    "                if test_accuracy > best_accuracy:\n",
    "                    best_accuracy = test_accuracy\n",
    "                    best_combination = (num_hidden_layers, neurons_per_layer, epochs)\n",
    "\n",
    "# Printing the best combination\n",
    "print(f\"Best combination: {best_combination} with accuracy: {best_accuracy}\")"
   ]
  },
  {
   "cell_type": "code",
   "execution_count": null,
   "id": "13fc02cd-ce28-460c-8de0-26ffcb3d1b12",
   "metadata": {},
   "outputs": [],
   "source": []
  }
 ],
 "metadata": {
  "kernelspec": {
   "display_name": "Python 3 (ipykernel)",
   "language": "python",
   "name": "python3"
  },
  "language_info": {
   "codemirror_mode": {
    "name": "ipython",
    "version": 3
   },
   "file_extension": ".py",
   "mimetype": "text/x-python",
   "name": "python",
   "nbconvert_exporter": "python",
   "pygments_lexer": "ipython3",
   "version": "3.9.6"
  }
 },
 "nbformat": 4,
 "nbformat_minor": 5
}
